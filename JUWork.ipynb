{
 "cells": [
  {
   "cell_type": "code",
   "execution_count": 2,
   "id": "81d5b3fd",
   "metadata": {},
   "outputs": [],
   "source": [
    "import pandas as pd\n",
    "import numpy as np\n",
    "import matplotlib.pyplot as plt\n",
    "from pathlib import Path"
   ]
  },
  {
   "cell_type": "code",
   "execution_count": 3,
   "id": "014f1c73",
   "metadata": {},
   "outputs": [],
   "source": [
    "shopping_trends = Path(\"shoppint_trends_master_dataset\\shopping_trends_updated.csv\")"
   ]
  },
  {
   "cell_type": "code",
   "execution_count": 4,
   "id": "031cc203",
   "metadata": {},
   "outputs": [],
   "source": [
    "shopping_trends_df = pd.read_csv(shopping_trends)"
   ]
  },
  {
   "cell_type": "code",
   "execution_count": 5,
   "id": "5a9e4ff8",
   "metadata": {},
   "outputs": [
    {
     "data": {
      "text/html": [
       "<div>\n",
       "<style scoped>\n",
       "    .dataframe tbody tr th:only-of-type {\n",
       "        vertical-align: middle;\n",
       "    }\n",
       "\n",
       "    .dataframe tbody tr th {\n",
       "        vertical-align: top;\n",
       "    }\n",
       "\n",
       "    .dataframe thead th {\n",
       "        text-align: right;\n",
       "    }\n",
       "</style>\n",
       "<table border=\"1\" class=\"dataframe\">\n",
       "  <thead>\n",
       "    <tr style=\"text-align: right;\">\n",
       "      <th></th>\n",
       "      <th>Customer ID</th>\n",
       "      <th>Age</th>\n",
       "      <th>Gender</th>\n",
       "      <th>Item Purchased</th>\n",
       "      <th>Category</th>\n",
       "      <th>Purchase Amount (USD)</th>\n",
       "      <th>Location</th>\n",
       "      <th>Size</th>\n",
       "      <th>Color</th>\n",
       "      <th>Season</th>\n",
       "      <th>Review Rating</th>\n",
       "      <th>Subscription Status</th>\n",
       "      <th>Shipping Type</th>\n",
       "      <th>Discount Applied</th>\n",
       "      <th>Promo Code Used</th>\n",
       "      <th>Previous Purchases</th>\n",
       "      <th>Payment Method</th>\n",
       "      <th>Frequency of Purchases</th>\n",
       "    </tr>\n",
       "  </thead>\n",
       "  <tbody>\n",
       "    <tr>\n",
       "      <th>0</th>\n",
       "      <td>1</td>\n",
       "      <td>55</td>\n",
       "      <td>Male</td>\n",
       "      <td>Blouse</td>\n",
       "      <td>Clothing</td>\n",
       "      <td>53</td>\n",
       "      <td>Kentucky</td>\n",
       "      <td>L</td>\n",
       "      <td>Gray</td>\n",
       "      <td>Winter</td>\n",
       "      <td>3.1</td>\n",
       "      <td>Yes</td>\n",
       "      <td>Express</td>\n",
       "      <td>Yes</td>\n",
       "      <td>Yes</td>\n",
       "      <td>14</td>\n",
       "      <td>Venmo</td>\n",
       "      <td>Fortnightly</td>\n",
       "    </tr>\n",
       "    <tr>\n",
       "      <th>1</th>\n",
       "      <td>2</td>\n",
       "      <td>19</td>\n",
       "      <td>Male</td>\n",
       "      <td>Sweater</td>\n",
       "      <td>Clothing</td>\n",
       "      <td>64</td>\n",
       "      <td>Maine</td>\n",
       "      <td>L</td>\n",
       "      <td>Maroon</td>\n",
       "      <td>Winter</td>\n",
       "      <td>3.1</td>\n",
       "      <td>Yes</td>\n",
       "      <td>Express</td>\n",
       "      <td>Yes</td>\n",
       "      <td>Yes</td>\n",
       "      <td>2</td>\n",
       "      <td>Cash</td>\n",
       "      <td>Fortnightly</td>\n",
       "    </tr>\n",
       "    <tr>\n",
       "      <th>2</th>\n",
       "      <td>3</td>\n",
       "      <td>50</td>\n",
       "      <td>Male</td>\n",
       "      <td>Jeans</td>\n",
       "      <td>Clothing</td>\n",
       "      <td>73</td>\n",
       "      <td>Massachusetts</td>\n",
       "      <td>S</td>\n",
       "      <td>Maroon</td>\n",
       "      <td>Spring</td>\n",
       "      <td>3.1</td>\n",
       "      <td>Yes</td>\n",
       "      <td>Free Shipping</td>\n",
       "      <td>Yes</td>\n",
       "      <td>Yes</td>\n",
       "      <td>23</td>\n",
       "      <td>Credit Card</td>\n",
       "      <td>Weekly</td>\n",
       "    </tr>\n",
       "    <tr>\n",
       "      <th>3</th>\n",
       "      <td>4</td>\n",
       "      <td>21</td>\n",
       "      <td>Male</td>\n",
       "      <td>Sandals</td>\n",
       "      <td>Footwear</td>\n",
       "      <td>90</td>\n",
       "      <td>Rhode Island</td>\n",
       "      <td>M</td>\n",
       "      <td>Maroon</td>\n",
       "      <td>Spring</td>\n",
       "      <td>3.5</td>\n",
       "      <td>Yes</td>\n",
       "      <td>Next Day Air</td>\n",
       "      <td>Yes</td>\n",
       "      <td>Yes</td>\n",
       "      <td>49</td>\n",
       "      <td>PayPal</td>\n",
       "      <td>Weekly</td>\n",
       "    </tr>\n",
       "    <tr>\n",
       "      <th>4</th>\n",
       "      <td>5</td>\n",
       "      <td>45</td>\n",
       "      <td>Male</td>\n",
       "      <td>Blouse</td>\n",
       "      <td>Clothing</td>\n",
       "      <td>49</td>\n",
       "      <td>Oregon</td>\n",
       "      <td>M</td>\n",
       "      <td>Turquoise</td>\n",
       "      <td>Spring</td>\n",
       "      <td>2.7</td>\n",
       "      <td>Yes</td>\n",
       "      <td>Free Shipping</td>\n",
       "      <td>Yes</td>\n",
       "      <td>Yes</td>\n",
       "      <td>31</td>\n",
       "      <td>PayPal</td>\n",
       "      <td>Annually</td>\n",
       "    </tr>\n",
       "  </tbody>\n",
       "</table>\n",
       "</div>"
      ],
      "text/plain": [
       "   Customer ID  Age Gender Item Purchased  Category  Purchase Amount (USD)  \\\n",
       "0            1   55   Male         Blouse  Clothing                     53   \n",
       "1            2   19   Male        Sweater  Clothing                     64   \n",
       "2            3   50   Male          Jeans  Clothing                     73   \n",
       "3            4   21   Male        Sandals  Footwear                     90   \n",
       "4            5   45   Male         Blouse  Clothing                     49   \n",
       "\n",
       "        Location Size      Color  Season  Review Rating Subscription Status  \\\n",
       "0       Kentucky    L       Gray  Winter            3.1                 Yes   \n",
       "1          Maine    L     Maroon  Winter            3.1                 Yes   \n",
       "2  Massachusetts    S     Maroon  Spring            3.1                 Yes   \n",
       "3   Rhode Island    M     Maroon  Spring            3.5                 Yes   \n",
       "4         Oregon    M  Turquoise  Spring            2.7                 Yes   \n",
       "\n",
       "   Shipping Type Discount Applied Promo Code Used  Previous Purchases  \\\n",
       "0        Express              Yes             Yes                  14   \n",
       "1        Express              Yes             Yes                   2   \n",
       "2  Free Shipping              Yes             Yes                  23   \n",
       "3   Next Day Air              Yes             Yes                  49   \n",
       "4  Free Shipping              Yes             Yes                  31   \n",
       "\n",
       "  Payment Method Frequency of Purchases  \n",
       "0          Venmo            Fortnightly  \n",
       "1           Cash            Fortnightly  \n",
       "2    Credit Card                 Weekly  \n",
       "3         PayPal                 Weekly  \n",
       "4         PayPal               Annually  "
      ]
     },
     "execution_count": 5,
     "metadata": {},
     "output_type": "execute_result"
    }
   ],
   "source": [
    "shopping_trends_df.head()"
   ]
  },
  {
   "cell_type": "code",
   "execution_count": 6,
   "id": "e8a7e9c1",
   "metadata": {},
   "outputs": [
    {
     "name": "stdout",
     "output_type": "stream",
     "text": [
      "<class 'pandas.core.frame.DataFrame'>\n",
      "RangeIndex: 3900 entries, 0 to 3899\n",
      "Data columns (total 18 columns):\n",
      " #   Column                  Non-Null Count  Dtype  \n",
      "---  ------                  --------------  -----  \n",
      " 0   Customer ID             3900 non-null   int64  \n",
      " 1   Age                     3900 non-null   int64  \n",
      " 2   Gender                  3900 non-null   object \n",
      " 3   Item Purchased          3900 non-null   object \n",
      " 4   Category                3900 non-null   object \n",
      " 5   Purchase Amount (USD)   3900 non-null   int64  \n",
      " 6   Location                3900 non-null   object \n",
      " 7   Size                    3900 non-null   object \n",
      " 8   Color                   3900 non-null   object \n",
      " 9   Season                  3900 non-null   object \n",
      " 10  Review Rating           3900 non-null   float64\n",
      " 11  Subscription Status     3900 non-null   object \n",
      " 12  Shipping Type           3900 non-null   object \n",
      " 13  Discount Applied        3900 non-null   object \n",
      " 14  Promo Code Used         3900 non-null   object \n",
      " 15  Previous Purchases      3900 non-null   int64  \n",
      " 16  Payment Method          3900 non-null   object \n",
      " 17  Frequency of Purchases  3900 non-null   object \n",
      "dtypes: float64(1), int64(4), object(13)\n",
      "memory usage: 548.6+ KB\n"
     ]
    }
   ],
   "source": [
    "shopping_trends_df.info()"
   ]
  },
  {
   "cell_type": "code",
   "execution_count": null,
   "id": "9029d960",
   "metadata": {},
   "outputs": [],
   "source": [
    "# First create a dataframe with column headings\n",
    "# Select Payment Method for our analysis\n",
    "# Get unique values in Payment Method (string and frequency)\n",
    "# Make Payment Method Pie Chart\n"
   ]
  },
  {
   "cell_type": "code",
   "execution_count": null,
   "id": "139d17c2",
   "metadata": {},
   "outputs": [],
   "source": [
    "# Second create a dataframe with column headings\n",
    "# Select Location for our analysis\n",
    "# Select Discount Applied and Promo Code Used for secondary analysis\n",
    "# Get unique values in Location (string and frequency)\n",
    "# Make bar chart of Locations and Y/N Discount and Promo Code counts\n"
   ]
  },
  {
   "cell_type": "code",
   "execution_count": 7,
   "id": "b2e714c0",
   "metadata": {},
   "outputs": [
    {
     "data": {
      "text/plain": [
       "Index(['Customer ID', 'Age', 'Gender', 'Item Purchased', 'Category',\n",
       "       'Purchase Amount (USD)', 'Location', 'Size', 'Color', 'Season',\n",
       "       'Review Rating', 'Subscription Status', 'Shipping Type',\n",
       "       'Discount Applied', 'Promo Code Used', 'Previous Purchases',\n",
       "       'Payment Method', 'Frequency of Purchases'],\n",
       "      dtype='object')"
      ]
     },
     "execution_count": 7,
     "metadata": {},
     "output_type": "execute_result"
    }
   ],
   "source": [
    "shopping_trends_df.columns"
   ]
  },
  {
   "cell_type": "code",
   "execution_count": 8,
   "id": "53111823",
   "metadata": {},
   "outputs": [
    {
     "data": {
      "text/plain": [
       "array(['Venmo', 'Cash', 'Credit Card', 'PayPal', 'Bank Transfer',\n",
       "       'Debit Card'], dtype=object)"
      ]
     },
     "execution_count": 8,
     "metadata": {},
     "output_type": "execute_result"
    }
   ],
   "source": [
    "# Reference a single column within a DataFrame.\n",
    "shopping_trends_df2 = shopping_trends_df[\"Payment Method\"].unique()\n",
    "shopping_trends_df2"
   ]
  },
  {
   "cell_type": "code",
   "execution_count": 9,
   "id": "ae366fad",
   "metadata": {},
   "outputs": [
    {
     "data": {
      "text/html": [
       "<div>\n",
       "<style scoped>\n",
       "    .dataframe tbody tr th:only-of-type {\n",
       "        vertical-align: middle;\n",
       "    }\n",
       "\n",
       "    .dataframe tbody tr th {\n",
       "        vertical-align: top;\n",
       "    }\n",
       "\n",
       "    .dataframe thead th {\n",
       "        text-align: right;\n",
       "    }\n",
       "</style>\n",
       "<table border=\"1\" class=\"dataframe\">\n",
       "  <thead>\n",
       "    <tr style=\"text-align: right;\">\n",
       "      <th></th>\n",
       "      <th>count</th>\n",
       "    </tr>\n",
       "    <tr>\n",
       "      <th>Payment Method</th>\n",
       "      <th></th>\n",
       "    </tr>\n",
       "  </thead>\n",
       "  <tbody>\n",
       "    <tr>\n",
       "      <th>PayPal</th>\n",
       "      <td>677</td>\n",
       "    </tr>\n",
       "    <tr>\n",
       "      <th>Credit Card</th>\n",
       "      <td>671</td>\n",
       "    </tr>\n",
       "    <tr>\n",
       "      <th>Cash</th>\n",
       "      <td>670</td>\n",
       "    </tr>\n",
       "    <tr>\n",
       "      <th>Debit Card</th>\n",
       "      <td>636</td>\n",
       "    </tr>\n",
       "    <tr>\n",
       "      <th>Venmo</th>\n",
       "      <td>634</td>\n",
       "    </tr>\n",
       "    <tr>\n",
       "      <th>Bank Transfer</th>\n",
       "      <td>612</td>\n",
       "    </tr>\n",
       "  </tbody>\n",
       "</table>\n",
       "</div>"
      ],
      "text/plain": [
       "                count\n",
       "Payment Method       \n",
       "PayPal            677\n",
       "Credit Card       671\n",
       "Cash              670\n",
       "Debit Card        636\n",
       "Venmo             634\n",
       "Bank Transfer     612"
      ]
     },
     "execution_count": 9,
     "metadata": {},
     "output_type": "execute_result"
    }
   ],
   "source": [
    "# The value_counts method counts unique values in a column\n",
    "count = shopping_trends_df[\"Payment Method\"].value_counts()\n",
    "count_df = pd.DataFrame(count)\n",
    "count_df"
   ]
  },
  {
   "cell_type": "code",
   "execution_count": 10,
   "id": "e4724b21",
   "metadata": {},
   "outputs": [
    {
     "name": "stdout",
     "output_type": "stream",
     "text": [
      "                    count\n",
      "Payment Method           \n",
      "PayPal          17.358974\n",
      "Credit Card     17.205128\n",
      "Cash            17.179487\n",
      "Debit Card      16.307692\n",
      "Venmo           16.256410\n",
      "Bank Transfer   15.692308\n",
      "['PayPal', 'Credit Card', 'Cash', 'Debit Card', 'Venmo', 'Bank Transfer']\n"
     ]
    }
   ],
   "source": [
    "# Calculate percent payment method\n",
    "percent_payment_method = (count/ count.sum())*100\n",
    "percent_payment_method_df = pd.DataFrame(percent_payment_method)\n",
    "print(percent_payment_method_df)\n",
    "\n",
    "# Get columns for percent payment method\n",
    "percent_payment_method_df = percent_payment_method_df.reset_index()\n",
    "cols_payment_method_df = percent_payment_method_df[\"Payment Method\"]\n",
    "cols_payment_method_df = cols_payment_method_df.to_list()\n",
    "print(cols_payment_method_df)"
   ]
  },
  {
   "cell_type": "code",
   "execution_count": 11,
   "id": "7be71272",
   "metadata": {},
   "outputs": [
    {
     "data": {
      "image/png": "[encoded data removed]",
      "text/plain": [
       "<Figure size 640x480 with 1 Axes>"
      ]
     },
     "metadata": {},
     "output_type": "display_data"
    }
   ],
   "source": [
    "# Create Pie Chart for Payment Method\n",
    "\n",
    "# Labels for the sections of our pie chart\n",
    "labels = cols_payment_method_df\n",
    "\n",
    "# The values of each section of the pie chart\n",
    "sizes = count_df[\"count\"]\n",
    "\n",
    "# The colors of each section of the pie chart\n",
    "colors = [\"blue\", \"orange\", \"green\", \"red\", \"skyblue\", \"lightgreen\"]\n",
    "\n",
    "# Tells matplotlib to separate the \"Paypal\" section from the others\n",
    "explode = (0.1, 0.1, 0.1, 0.1, 0.1, 0.1)\n",
    "\n",
    "# Creates the pie chart based upon the values above\n",
    "# Automatically finds the percentages of each part of the pie chart\n",
    "plt.pie(sizes, explode=explode, labels=labels, colors=colors,\n",
    "        autopct=\"%1.1f%%\", shadow=True, startangle=30)\n",
    "plt.show()\n",
    "\n",
    "# Tells matplotlib that we want a pie chart with equal axes\n",
    "# plt.axis(\"equal\")\n",
    "# plt.show()"
   ]
  },
  {
   "cell_type": "code",
   "execution_count": null,
   "id": "5d13c7b6",
   "metadata": {},
   "outputs": [],
   "source": [
    "# Second create a dataframe with column headings\n",
    "# Select Location for our analysis\n",
    "# Select Discount Applied and Promo Code Used for secondary analysis\n",
    "# Get unique values in Location (string and frequency)\n",
    "# Make bar chart of Locations and Y/N Discount and Promo Code counts\n"
   ]
  },
  {
   "cell_type": "code",
   "execution_count": 12,
   "id": "5df3d1c9",
   "metadata": {},
   "outputs": [
    {
     "data": {
      "text/plain": [
       "Index(['Customer ID', 'Age', 'Gender', 'Item Purchased', 'Category',\n",
       "       'Purchase Amount (USD)', 'Location', 'Size', 'Color', 'Season',\n",
       "       'Review Rating', 'Subscription Status', 'Shipping Type',\n",
       "       'Discount Applied', 'Promo Code Used', 'Previous Purchases',\n",
       "       'Payment Method', 'Frequency of Purchases'],\n",
       "      dtype='object')"
      ]
     },
     "execution_count": 12,
     "metadata": {},
     "output_type": "execute_result"
    }
   ],
   "source": [
    "shopping_trends_df.columns"
   ]
  },
  {
   "cell_type": "code",
   "execution_count": null,
   "id": "f16e9957",
   "metadata": {},
   "outputs": [],
   "source": [
    "#location_df = shopping_trends_df.sort_values(by=['Location'])\n",
    "#location_df\n",
    "#location_discount_df = location_df.sort_values(by=['Location', 'Discount Applied'])\n",
    "#location_discount_df\n",
    "#location_discount_promo_df = location_discount_df.sort_values(by=['Location', 'Discount Applied', 'Promo Code Used'])\n",
    "#location_discount_promo_df"
   ]
  },
  {
   "cell_type": "code",
   "execution_count": 13,
   "id": "d64e1123",
   "metadata": {},
   "outputs": [
    {
     "name": "stdout",
     "output_type": "stream",
     "text": [
      "                count\n",
      "Location             \n",
      "Montana            96\n",
      "California         95\n",
      "Idaho              93\n",
      "Illinois           92\n",
      "Alabama            89\n",
      "Minnesota          88\n",
      "Nebraska           87\n",
      "New York           87\n",
      "Nevada             87\n",
      "Maryland           86\n",
      "Delaware           86\n",
      "Vermont            85\n",
      "Louisiana          84\n",
      "North Dakota       83\n",
      "Missouri           81\n",
      "West Virginia      81\n",
      "New Mexico         81\n",
      "Mississippi        80\n",
      "Indiana            79\n",
      "Georgia            79\n",
      "Kentucky           79\n",
      "Arkansas           79\n",
      "North Carolina     78\n",
      "Connecticut        78\n",
      "Virginia           77\n",
      "Ohio               77\n",
      "Tennessee          77\n",
      "Texas              77\n",
      "Maine              77\n",
      "South Carolina     76\n",
      "Colorado           75\n",
      "Oklahoma           75\n",
      "Wisconsin          75\n",
      "Oregon             74\n",
      "Pennsylvania       74\n",
      "Washington         73\n",
      "Michigan           73\n",
      "Alaska             72\n",
      "Massachusetts      72\n",
      "Wyoming            71\n",
      "Utah               71\n",
      "New Hampshire      71\n",
      "South Dakota       70\n",
      "Iowa               69\n",
      "Florida            68\n",
      "New Jersey         67\n",
      "Hawaii             65\n",
      "Arizona            65\n",
      "Kansas             63\n",
      "Rhode Island       63\n",
      "                   count\n",
      "Location                \n",
      "Montana         2.461538\n",
      "California      2.435897\n",
      "Idaho           2.384615\n",
      "Illinois        2.358974\n",
      "Alabama         2.282051\n",
      "Minnesota       2.256410\n",
      "Nebraska        2.230769\n",
      "New York        2.230769\n",
      "Nevada          2.230769\n",
      "Maryland        2.205128\n",
      "Delaware        2.205128\n",
      "Vermont         2.179487\n",
      "Louisiana       2.153846\n",
      "North Dakota    2.128205\n",
      "Missouri        2.076923\n",
      "West Virginia   2.076923\n",
      "New Mexico      2.076923\n",
      "Mississippi     2.051282\n",
      "Indiana         2.025641\n",
      "Georgia         2.025641\n",
      "Kentucky        2.025641\n",
      "Arkansas        2.025641\n",
      "North Carolina  2.000000\n",
      "Connecticut     2.000000\n",
      "Virginia        1.974359\n",
      "Ohio            1.974359\n",
      "Tennessee       1.974359\n",
      "Texas           1.974359\n",
      "Maine           1.974359\n",
      "South Carolina  1.948718\n",
      "Colorado        1.923077\n",
      "Oklahoma        1.923077\n",
      "Wisconsin       1.923077\n",
      "Oregon          1.897436\n",
      "Pennsylvania    1.897436\n",
      "Washington      1.871795\n",
      "Michigan        1.871795\n",
      "Alaska          1.846154\n",
      "Massachusetts   1.846154\n",
      "Wyoming         1.820513\n",
      "Utah            1.820513\n",
      "New Hampshire   1.820513\n",
      "South Dakota    1.794872\n",
      "Iowa            1.769231\n",
      "Florida         1.743590\n",
      "New Jersey      1.717949\n",
      "Hawaii          1.666667\n",
      "Arizona         1.666667\n",
      "Kansas          1.615385\n",
      "Rhode Island    1.615385\n"
     ]
    }
   ],
   "source": [
    "# The value_counts method counts unique values in a column\n",
    "count2 = shopping_trends_df[\"Location\"].value_counts()\n",
    "count2_df = pd.DataFrame(count2)\n",
    "print(count2_df)\n",
    "print(count2_df/len(shopping_trends_df)*100)"
   ]
  },
  {
   "cell_type": "code",
   "execution_count": 14,
   "id": "62996680",
   "metadata": {},
   "outputs": [
    {
     "data": {
      "image/png": "[encoded data removed]",
      "text/plain": [
       "<Figure size 640x480 with 1 Axes>"
      ]
     },
     "metadata": {},
     "output_type": "display_data"
    }
   ],
   "source": [
    "count2_df.plot.bar(rot=90, color= \"#f79e1b\", title=\"Number of Orders by Location\");\n",
    "plt.show();"
   ]
  },
  {
   "cell_type": "code",
   "execution_count": null,
   "id": "711e1fb5",
   "metadata": {},
   "outputs": [],
   "source": [
    "# Set x axis and tick locations\n",
    "#x_axis = np.arange(len(count2_df))\n",
    "#tick_locations = [value for value in x_axis]"
   ]
  },
  {
   "cell_type": "code",
   "execution_count": null,
   "id": "73e518f7",
   "metadata": {},
   "outputs": [],
   "source": [
    "# Create a list indicating where to write x labels and set figure size to adjust for space\n",
    "#plt.figure(figsize=(20,4))\n",
    "#plt.bar(x_axis, [index for value in x_axis], color='r', alpha=0.5, align=\"center\")\n",
    "#plt.xticks(tick_locations, count2_df[\"Location\"], rotation=\"vertical\")\n",
    "#plt.show()"
   ]
  },
  {
   "cell_type": "code",
   "execution_count": 15,
   "id": "10cbe08f",
   "metadata": {},
   "outputs": [
    {
     "name": "stdout",
     "output_type": "stream",
     "text": [
      "                  count\n",
      "Discount Applied       \n",
      "No                 2223\n",
      "Yes                1677\n",
      "                  count\n",
      "Discount Applied       \n",
      "No                 57.0\n",
      "Yes                43.0\n",
      "                 count\n",
      "Promo Code Used       \n",
      "No                2223\n",
      "Yes               1677\n",
      "                 count\n",
      "Promo Code Used       \n",
      "No                57.0\n",
      "Yes               43.0\n"
     ]
    }
   ],
   "source": [
    "# The value_counts method counts unique values in a column\n",
    "count3 = shopping_trends_df[\"Discount Applied\"].value_counts()\n",
    "count3_df = pd.DataFrame(count3)\n",
    "print(count3_df)\n",
    "print(count3_df/len(shopping_trends_df)*100)\n",
    "\n",
    "# The value_counts method counts unique values in a column\n",
    "count4 = shopping_trends_df[\"Promo Code Used\"].value_counts()\n",
    "count4_df = pd.DataFrame(count4)\n",
    "print(count4_df)\n",
    "print(count4_df/len(shopping_trends_df)*100)"
   ]
  },
  {
   "cell_type": "code",
   "execution_count": 16,
   "id": "b876ac9d",
   "metadata": {},
   "outputs": [
    {
     "data": {
      "text/html": [
       "<div>\n",
       "<style scoped>\n",
       "    .dataframe tbody tr th:only-of-type {\n",
       "        vertical-align: middle;\n",
       "    }\n",
       "\n",
       "    .dataframe tbody tr th {\n",
       "        vertical-align: top;\n",
       "    }\n",
       "\n",
       "    .dataframe thead th {\n",
       "        text-align: right;\n",
       "    }\n",
       "</style>\n",
       "<table border=\"1\" class=\"dataframe\">\n",
       "  <thead>\n",
       "    <tr style=\"text-align: right;\">\n",
       "      <th></th>\n",
       "      <th>Customer ID</th>\n",
       "      <th>Location</th>\n",
       "      <th>Discount Applied</th>\n",
       "      <th>Promo Code Used</th>\n",
       "    </tr>\n",
       "  </thead>\n",
       "  <tbody>\n",
       "    <tr>\n",
       "      <th>0</th>\n",
       "      <td>1</td>\n",
       "      <td>Kentucky</td>\n",
       "      <td>Yes</td>\n",
       "      <td>Yes</td>\n",
       "    </tr>\n",
       "    <tr>\n",
       "      <th>1</th>\n",
       "      <td>2</td>\n",
       "      <td>Maine</td>\n",
       "      <td>Yes</td>\n",
       "      <td>Yes</td>\n",
       "    </tr>\n",
       "    <tr>\n",
       "      <th>2</th>\n",
       "      <td>3</td>\n",
       "      <td>Massachusetts</td>\n",
       "      <td>Yes</td>\n",
       "      <td>Yes</td>\n",
       "    </tr>\n",
       "    <tr>\n",
       "      <th>3</th>\n",
       "      <td>4</td>\n",
       "      <td>Rhode Island</td>\n",
       "      <td>Yes</td>\n",
       "      <td>Yes</td>\n",
       "    </tr>\n",
       "    <tr>\n",
       "      <th>4</th>\n",
       "      <td>5</td>\n",
       "      <td>Oregon</td>\n",
       "      <td>Yes</td>\n",
       "      <td>Yes</td>\n",
       "    </tr>\n",
       "    <tr>\n",
       "      <th>...</th>\n",
       "      <td>...</td>\n",
       "      <td>...</td>\n",
       "      <td>...</td>\n",
       "      <td>...</td>\n",
       "    </tr>\n",
       "    <tr>\n",
       "      <th>3895</th>\n",
       "      <td>3896</td>\n",
       "      <td>Virginia</td>\n",
       "      <td>No</td>\n",
       "      <td>No</td>\n",
       "    </tr>\n",
       "    <tr>\n",
       "      <th>3896</th>\n",
       "      <td>3897</td>\n",
       "      <td>Iowa</td>\n",
       "      <td>No</td>\n",
       "      <td>No</td>\n",
       "    </tr>\n",
       "    <tr>\n",
       "      <th>3897</th>\n",
       "      <td>3898</td>\n",
       "      <td>New Jersey</td>\n",
       "      <td>No</td>\n",
       "      <td>No</td>\n",
       "    </tr>\n",
       "    <tr>\n",
       "      <th>3898</th>\n",
       "      <td>3899</td>\n",
       "      <td>Minnesota</td>\n",
       "      <td>No</td>\n",
       "      <td>No</td>\n",
       "    </tr>\n",
       "    <tr>\n",
       "      <th>3899</th>\n",
       "      <td>3900</td>\n",
       "      <td>California</td>\n",
       "      <td>No</td>\n",
       "      <td>No</td>\n",
       "    </tr>\n",
       "  </tbody>\n",
       "</table>\n",
       "<p>3900 rows × 4 columns</p>\n",
       "</div>"
      ],
      "text/plain": [
       "      Customer ID       Location Discount Applied Promo Code Used\n",
       "0               1       Kentucky              Yes             Yes\n",
       "1               2          Maine              Yes             Yes\n",
       "2               3  Massachusetts              Yes             Yes\n",
       "3               4   Rhode Island              Yes             Yes\n",
       "4               5         Oregon              Yes             Yes\n",
       "...           ...            ...              ...             ...\n",
       "3895         3896       Virginia               No              No\n",
       "3896         3897           Iowa               No              No\n",
       "3897         3898     New Jersey               No              No\n",
       "3898         3899      Minnesota               No              No\n",
       "3899         3900     California               No              No\n",
       "\n",
       "[3900 rows x 4 columns]"
      ]
     },
     "execution_count": 16,
     "metadata": {},
     "output_type": "execute_result"
    }
   ],
   "source": [
    "# Extract \"Customer ID\", \"Location\", \"Discount Applied\", \"Promo Code Used\"\n",
    "reduced_shopping_trends_df = shopping_trends_df.loc[:, [\"Customer ID\", \"Location\", \"Discount Applied\", \"Promo Code Used\"]]\n",
    "reduced_shopping_trends_df"
   ]
  },
  {
   "cell_type": "code",
   "execution_count": 21,
   "id": "739c92b4",
   "metadata": {},
   "outputs": [
    {
     "name": "stdout",
     "output_type": "stream",
     "text": [
      "      Customer ID Location Discount Applied Promo Code Used\n",
      "6               7  Montana              Yes             Yes\n",
      "18             19  Montana              Yes             Yes\n",
      "47             48  Montana              Yes             Yes\n",
      "108           109  Montana              Yes             Yes\n",
      "133           134  Montana              Yes             Yes\n",
      "...           ...      ...              ...             ...\n",
      "3770         3771  Montana               No              No\n",
      "3826         3827  Montana               No              No\n",
      "3827         3828  Montana               No              No\n",
      "3844         3845  Montana               No              No\n",
      "3851         3852  Montana               No              No\n",
      "\n",
      "[96 rows x 4 columns]\n",
      "                  count\n",
      "Discount Applied       \n",
      "No                   60\n",
      "Yes                  36\n",
      "                  count\n",
      "Discount Applied       \n",
      "No                 62.5\n",
      "Yes                37.5\n"
     ]
    },
    {
     "data": {
      "image/png": "[encoded data removed]",
      "text/plain": [
       "<Figure size 640x480 with 1 Axes>"
      ]
     },
     "metadata": {},
     "output_type": "display_data"
    },
    {
     "name": "stdout",
     "output_type": "stream",
     "text": [
      "                 count\n",
      "Promo Code Used       \n",
      "No                  60\n",
      "Yes                 36\n",
      "                 count\n",
      "Promo Code Used       \n",
      "No                62.5\n",
      "Yes               37.5\n"
     ]
    },
    {
     "data": {
      "image/png": "[encoded data removed]",
      "text/plain": [
       "<Figure size 640x480 with 1 Axes>"
      ]
     },
     "metadata": {},
     "output_type": "display_data"
    }
   ],
   "source": [
    "# Select _Location_, \n",
    "montana_df = reduced_shopping_trends_df.loc[reduced_shopping_trends_df[\"Location\"] == \"Montana\"]\n",
    "print(montana_df)\n",
    "\n",
    "# Discount df\n",
    "count_montana_discount = montana_df[\"Discount Applied\"].value_counts()\n",
    "count_montana_discount_df = pd.DataFrame(count_montana_discount)\n",
    "print(count_montana_discount_df)\n",
    "print(count_montana_discount_df / len(montana_df)*100)\n",
    "\n",
    "# Plot data\n",
    "count_montana_discount_df.plot.bar(rot=15, color= \"#00457c\", title=\"Discount Applied Montana\");\n",
    "plt.show(block=True);\n",
    "\n",
    "# Promo Code df\n",
    "count_montana_promo = montana_df[\"Promo Code Used\"].value_counts()\n",
    "count_montana_promo_df = pd.DataFrame(count_montana_promo)\n",
    "print(count_montana_promo_df)\n",
    "print(count_montana_promo_df / len(montana_df)*100)\n",
    "\n",
    "# Plot data\n",
    "count_montana_promo_df.plot.bar(rot=15, color= \"#00457c\", title=\"Promo Code Used Montana\");\n",
    "plt.show(block=True);"
   ]
  },
  {
   "cell_type": "code",
   "execution_count": 18,
   "id": "2d0e3a31",
   "metadata": {},
   "outputs": [
    {
     "name": "stdout",
     "output_type": "stream",
     "text": [
      "      Customer ID    Location Discount Applied Promo Code Used\n",
      "22             23  California              Yes             Yes\n",
      "46             47  California              Yes             Yes\n",
      "89             90  California              Yes             Yes\n",
      "125           126  California              Yes             Yes\n",
      "128           129  California              Yes             Yes\n",
      "...           ...         ...              ...             ...\n",
      "3779         3780  California               No              No\n",
      "3797         3798  California               No              No\n",
      "3823         3824  California               No              No\n",
      "3845         3846  California               No              No\n",
      "3899         3900  California               No              No\n",
      "\n",
      "[95 rows x 4 columns]\n",
      "                  count\n",
      "Discount Applied       \n",
      "No                   55\n",
      "Yes                  40\n",
      "                      count\n",
      "Discount Applied           \n",
      "No                57.894737\n",
      "Yes               42.105263\n"
     ]
    },
    {
     "data": {
      "image/png": "[encoded data removed]",
      "text/plain": [
       "<Figure size 640x480 with 1 Axes>"
      ]
     },
     "metadata": {},
     "output_type": "display_data"
    },
    {
     "name": "stdout",
     "output_type": "stream",
     "text": [
      "                 count\n",
      "Promo Code Used       \n",
      "No                  55\n",
      "Yes                 40\n",
      "                     count\n",
      "Promo Code Used           \n",
      "No               57.894737\n",
      "Yes              42.105263\n"
     ]
    },
    {
     "data": {
      "image/png": "[encoded data removed]",
      "text/plain": [
       "<Figure size 640x480 with 1 Axes>"
      ]
     },
     "metadata": {},
     "output_type": "display_data"
    }
   ],
   "source": [
    "california_df = reduced_shopping_trends_df.loc[reduced_shopping_trends_df[\"Location\"] == \"California\"]\n",
    "print(california_df)\n",
    "\n",
    "# Discount df\n",
    "count_california_discount = california_df[\"Discount Applied\"].value_counts()\n",
    "count_california_discount_df = pd.DataFrame(count_california_discount)\n",
    "print(count_california_discount_df)\n",
    "print(count_california_discount_df / len(california_df)*100)\n",
    "\n",
    "# Plot data\n",
    "count_california_discount_df.plot.bar(rot=15, color= \"#00457c\", title=\"Discount Applied California\");\n",
    "plt.show(block=True);\n",
    "\n",
    "# Promo Code df\n",
    "count_california_promo = california_df[\"Promo Code Used\"].value_counts()\n",
    "count_california_promo_df = pd.DataFrame(count_california_promo)\n",
    "print(count_california_promo_df)\n",
    "print(count_california_promo_df / len(california_df)*100)\n",
    "\n",
    "# Plot data\n",
    "count_california_promo_df.plot.bar(rot=15, color= \"#00457c\", title=\"Promo Code Used California\");\n",
    "plt.show(block=True);"
   ]
  },
  {
   "cell_type": "code",
   "execution_count": 22,
   "id": "cd0dbd1f",
   "metadata": {},
   "outputs": [
    {
     "name": "stdout",
     "output_type": "stream",
     "text": [
      "      Customer ID Location Discount Applied Promo Code Used\n",
      "60             61    Idaho              Yes             Yes\n",
      "147           148    Idaho              Yes             Yes\n",
      "178           179    Idaho              Yes             Yes\n",
      "199           200    Idaho              Yes             Yes\n",
      "392           393    Idaho              Yes             Yes\n",
      "...           ...      ...              ...             ...\n",
      "3743         3744    Idaho               No              No\n",
      "3746         3747    Idaho               No              No\n",
      "3811         3812    Idaho               No              No\n",
      "3840         3841    Idaho               No              No\n",
      "3862         3863    Idaho               No              No\n",
      "\n",
      "[93 rows x 4 columns]\n",
      "                  count\n",
      "Discount Applied       \n",
      "No                   55\n",
      "Yes                  38\n",
      "                      count\n",
      "Discount Applied           \n",
      "No                59.139785\n",
      "Yes               40.860215\n"
     ]
    },
    {
     "data": {
      "image/png": "[encoded data removed]",
      "text/plain": [
       "<Figure size 640x480 with 1 Axes>"
      ]
     },
     "metadata": {},
     "output_type": "display_data"
    },
    {
     "name": "stdout",
     "output_type": "stream",
     "text": [
      "                 count\n",
      "Promo Code Used       \n",
      "No                  55\n",
      "Yes                 38\n",
      "                     count\n",
      "Promo Code Used           \n",
      "No               59.139785\n",
      "Yes              40.860215\n"
     ]
    },
    {
     "data": {
      "image/png": "[encoded data removed]",
      "text/plain": [
       "<Figure size 640x480 with 1 Axes>"
      ]
     },
     "metadata": {},
     "output_type": "display_data"
    }
   ],
   "source": [
    "idaho_df = reduced_shopping_trends_df.loc[reduced_shopping_trends_df[\"Location\"] == \"Idaho\"]\n",
    "print(idaho_df)\n",
    "\n",
    "# Discount df\n",
    "count_idaho_discount = idaho_df[\"Discount Applied\"].value_counts()\n",
    "count_idaho_discount_df = pd.DataFrame(count_idaho_discount)\n",
    "print(count_idaho_discount_df)\n",
    "print(count_idaho_discount_df / len(idaho_df)*100)\n",
    "\n",
    "# Plot data\n",
    "count_idaho_discount_df.plot.bar(rot=15, color= \"#00457c\", title=\"Discount Applied Idaho\");\n",
    "plt.show(block=True);\n",
    "\n",
    "# Promo Code df\n",
    "count_idaho_promo = idaho_df[\"Promo Code Used\"].value_counts()\n",
    "count_idaho_promo_df = pd.DataFrame(count_idaho_promo)\n",
    "print(count_idaho_promo_df)\n",
    "print(count_idaho_promo_df / len(idaho_df)*100)\n",
    "\n",
    "# Plot data\n",
    "count_idaho_promo_df.plot.bar(rot=15, color= \"#00457c\", title=\"Promo Code Used Idaho\");\n",
    "plt.show(block=True);"
   ]
  },
  {
   "cell_type": "code",
   "execution_count": 23,
   "id": "77c46be8",
   "metadata": {},
   "outputs": [
    {
     "name": "stdout",
     "output_type": "stream",
     "text": [
      "      Customer ID  Location Discount Applied Promo Code Used\n",
      "36             37  Illinois              Yes             Yes\n",
      "179           180  Illinois              Yes             Yes\n",
      "418           419  Illinois              Yes             Yes\n",
      "424           425  Illinois              Yes             Yes\n",
      "427           428  Illinois              Yes             Yes\n",
      "...           ...       ...              ...             ...\n",
      "3671         3672  Illinois               No              No\n",
      "3707         3708  Illinois               No              No\n",
      "3733         3734  Illinois               No              No\n",
      "3802         3803  Illinois               No              No\n",
      "3855         3856  Illinois               No              No\n",
      "\n",
      "[92 rows x 4 columns]\n",
      "                  count\n",
      "Discount Applied       \n",
      "No                   55\n",
      "Yes                  37\n",
      "                      count\n",
      "Discount Applied           \n",
      "No                59.782609\n",
      "Yes               40.217391\n"
     ]
    },
    {
     "data": {
      "image/png": "[encoded data removed]",
      "text/plain": [
       "<Figure size 640x480 with 1 Axes>"
      ]
     },
     "metadata": {},
     "output_type": "display_data"
    },
    {
     "name": "stdout",
     "output_type": "stream",
     "text": [
      "                 count\n",
      "Promo Code Used       \n",
      "No                  55\n",
      "Yes                 37\n",
      "                     count\n",
      "Promo Code Used           \n",
      "No               59.782609\n",
      "Yes              40.217391\n"
     ]
    },
    {
     "data": {
      "image/png": "[encoded data removed]",
      "text/plain": [
       "<Figure size 640x480 with 1 Axes>"
      ]
     },
     "metadata": {},
     "output_type": "display_data"
    }
   ],
   "source": [
    "illinois_df = reduced_shopping_trends_df.loc[reduced_shopping_trends_df[\"Location\"] == \"Illinois\"]\n",
    "print(illinois_df)\n",
    "\n",
    "# Discount df\n",
    "count_illinois_discount = illinois_df[\"Discount Applied\"].value_counts()\n",
    "count_illinois_discount_df = pd.DataFrame(count_illinois_discount)\n",
    "print(count_illinois_discount_df)\n",
    "print(count_illinois_discount_df / len(illinois_df)*100)\n",
    "\n",
    "# Plot data\n",
    "count_illinois_discount_df.plot.bar(rot=15, color= \"#00457c\", title=\"Discount Applied Illinois\");\n",
    "plt.show(block=True);\n",
    "\n",
    "# Promo Code df\n",
    "count_illinois_promo = illinois_df[\"Promo Code Used\"].value_counts()\n",
    "count_illinois_promo_df = pd.DataFrame(count_illinois_promo)\n",
    "print(count_illinois_promo_df)\n",
    "print(count_illinois_promo_df / len(illinois_df)*100)\n",
    "\n",
    "# Plot data\n",
    "count_illinois_promo_df.plot.bar(rot=15, color= \"#00457c\", title=\"Promo Code Used Illinois\");\n",
    "plt.show(block=True);"
   ]
  },
  {
   "cell_type": "code",
   "execution_count": 24,
   "id": "cbdec465",
   "metadata": {},
   "outputs": [
    {
     "name": "stdout",
     "output_type": "stream",
     "text": [
      "      Customer ID Location Discount Applied Promo Code Used\n",
      "16             17  Alabama              Yes             Yes\n",
      "64             65  Alabama              Yes             Yes\n",
      "70             71  Alabama              Yes             Yes\n",
      "109           110  Alabama              Yes             Yes\n",
      "182           183  Alabama              Yes             Yes\n",
      "...           ...      ...              ...             ...\n",
      "3657         3658  Alabama               No              No\n",
      "3666         3667  Alabama               No              No\n",
      "3692         3693  Alabama               No              No\n",
      "3751         3752  Alabama               No              No\n",
      "3782         3783  Alabama               No              No\n",
      "\n",
      "[89 rows x 4 columns]\n",
      "                  count\n",
      "Discount Applied       \n",
      "No                   53\n",
      "Yes                  36\n",
      "                      count\n",
      "Discount Applied           \n",
      "No                59.550562\n",
      "Yes               40.449438\n"
     ]
    },
    {
     "data": {
      "image/png": "[encoded data removed]",
      "text/plain": [
       "<Figure size 640x480 with 1 Axes>"
      ]
     },
     "metadata": {},
     "output_type": "display_data"
    },
    {
     "name": "stdout",
     "output_type": "stream",
     "text": [
      "                 count\n",
      "Promo Code Used       \n",
      "No                  53\n",
      "Yes                 36\n",
      "                     count\n",
      "Promo Code Used           \n",
      "No               59.550562\n",
      "Yes              40.449438\n"
     ]
    },
    {
     "data": {
      "image/png": "[encoded data removed]",
      "text/plain": [
       "<Figure size 640x480 with 1 Axes>"
      ]
     },
     "metadata": {},
     "output_type": "display_data"
    }
   ],
   "source": [
    "alabama_df = reduced_shopping_trends_df.loc[reduced_shopping_trends_df[\"Location\"] == \"Alabama\"]\n",
    "print(alabama_df)\n",
    "\n",
    "# Discount df\n",
    "count_alabama_discount = alabama_df[\"Discount Applied\"].value_counts()\n",
    "count_alabama_discount_df = pd.DataFrame(count_alabama_discount)\n",
    "print(count_alabama_discount_df)\n",
    "print(count_alabama_discount_df / len(alabama_df)*100)\n",
    "\n",
    "# Plot data\n",
    "count_alabama_discount_df.plot.bar(rot=15, color= \"#00457c\", title=\"Discount Applied Alabama\");\n",
    "plt.show(block=True);\n",
    "\n",
    "# Promo Code df\n",
    "count_alabama_promo = alabama_df[\"Promo Code Used\"].value_counts()\n",
    "count_alabama_promo_df = pd.DataFrame(count_alabama_promo)\n",
    "print(count_alabama_promo_df)\n",
    "print(count_alabama_promo_df / len(alabama_df)*100)\n",
    "\n",
    "# Plot data\n",
    "count_alabama_promo_df.plot.bar(rot=15, color= \"#00457c\", title=\"Promo Code Used Alabama\");\n",
    "plt.show(block=True);"
   ]
  },
  {
   "cell_type": "code",
   "execution_count": 25,
   "id": "f8f4df7d",
   "metadata": {},
   "outputs": [
    {
     "name": "stdout",
     "output_type": "stream",
     "text": [
      "      Customer ID   Location Discount Applied Promo Code Used\n",
      "106           107  Minnesota              Yes             Yes\n",
      "186           187  Minnesota              Yes             Yes\n",
      "209           210  Minnesota              Yes             Yes\n",
      "282           283  Minnesota              Yes             Yes\n",
      "309           310  Minnesota              Yes             Yes\n",
      "...           ...        ...              ...             ...\n",
      "3640         3641  Minnesota               No              No\n",
      "3649         3650  Minnesota               No              No\n",
      "3653         3654  Minnesota               No              No\n",
      "3871         3872  Minnesota               No              No\n",
      "3898         3899  Minnesota               No              No\n",
      "\n",
      "[88 rows x 4 columns]\n",
      "                  count\n",
      "Discount Applied       \n",
      "No                   49\n",
      "Yes                  39\n",
      "                      count\n",
      "Discount Applied           \n",
      "No                55.681818\n",
      "Yes               44.318182\n"
     ]
    },
    {
     "data": {
      "image/png": "[encoded data removed]",
      "text/plain": [
       "<Figure size 640x480 with 1 Axes>"
      ]
     },
     "metadata": {},
     "output_type": "display_data"
    },
    {
     "name": "stdout",
     "output_type": "stream",
     "text": [
      "                 count\n",
      "Promo Code Used       \n",
      "No                  49\n",
      "Yes                 39\n",
      "                     count\n",
      "Promo Code Used           \n",
      "No               55.681818\n",
      "Yes              44.318182\n"
     ]
    },
    {
     "data": {
      "image/png": "[encoded data removed]",
      "text/plain": [
       "<Figure size 640x480 with 1 Axes>"
      ]
     },
     "metadata": {},
     "output_type": "display_data"
    }
   ],
   "source": [
    "minnesota_df = reduced_shopping_trends_df.loc[reduced_shopping_trends_df[\"Location\"] == \"Minnesota\"]\n",
    "print(minnesota_df)\n",
    "\n",
    "# Discount df\n",
    "count_minnesota_discount = minnesota_df[\"Discount Applied\"].value_counts()\n",
    "count_minnesota_discount_df = pd.DataFrame(count_minnesota_discount)\n",
    "print(count_minnesota_discount_df)\n",
    "print(count_minnesota_discount_df / len(minnesota_df)*100)\n",
    "\n",
    "# Plot data\n",
    "count_minnesota_discount_df.plot.bar(rot=15, color= \"#00457c\", title=\"Discount Applied Minnesota\");\n",
    "plt.show(block=True);\n",
    "\n",
    "# Promo Code df\n",
    "count_minnesota_promo = minnesota_df[\"Promo Code Used\"].value_counts()\n",
    "count_minnesota_promo_df = pd.DataFrame(count_minnesota_promo)\n",
    "print(count_minnesota_promo_df)\n",
    "print(count_minnesota_promo_df / len(minnesota_df)*100)\n",
    "\n",
    "# Plot data\n",
    "count_minnesota_promo_df.plot.bar(rot=15, color= \"#00457c\", title=\"Promo Code Used Minnesota\");\n",
    "plt.show(block=True);"
   ]
  },
  {
   "cell_type": "code",
   "execution_count": null,
   "id": "bffd7eae",
   "metadata": {},
   "outputs": [],
   "source": [
    "nebraska_df = reduced_shopping_trends_df.loc[reduced_shopping_trends_df[\"Location\"] == \"Nebraska\"]\n",
    "print(nebraska_df)\n",
    "\n",
    "# Discount df\n",
    "count_nebraska_discount = nebraska_df[\"Discount Applied\"].value_counts()\n",
    "count_nebraska_discount_df = pd.DataFrame(count_nebraska_discount)\n",
    "print(count_nebraska_discount_df)\n",
    "print(count_nebraska_discount_df / len(nebraska_df)*100)\n",
    "\n",
    "# Plot data\n",
    "count_nebraska_discount_df.plot.bar(rot=15, color= \"#00457c\", title=\"Discount Applied Minnesota\");\n",
    "plt.show(block=True);\n",
    "\n",
    "# Promo Code df\n",
    "count_nebraska_promo = nebraska_df[\"Promo Code Used\"].value_counts()\n",
    "count_nebraska_promo_df = pd.DataFrame(count_nebraska_promo)\n",
    "print(count_nebraska_promo_df)\n",
    "print(count_nebraska_promo_df / len(nebraska_df)*100)\n",
    "\n",
    "# Plot data\n",
    "count_nebraska_promo_df.plot.bar(rot=15, color= \"#00457c\", title=\"Promo Code Used Minnesota\");\n",
    "plt.show(block=True);"
   ]
  },
  {
   "cell_type": "code",
   "execution_count": null,
   "id": "1d7a28ff",
   "metadata": {},
   "outputs": [],
   "source": [
    "newyork_df = reduced_shopping_trends_df.loc[reduced_shopping_trends_df[\"Location\"] == \"New York\"]\n",
    "newyork_df"
   ]
  },
  {
   "cell_type": "code",
   "execution_count": null,
   "id": "e5e01200",
   "metadata": {},
   "outputs": [],
   "source": [
    "nevada_df = reduced_shopping_trends_df.loc[reduced_shopping_trends_df[\"Location\"] == \"Nevada\"]\n",
    "nevada_df"
   ]
  },
  {
   "cell_type": "code",
   "execution_count": null,
   "id": "a3ec7ff7",
   "metadata": {},
   "outputs": [],
   "source": [
    "maryland_df = reduced_shopping_trends_df.loc[reduced_shopping_trends_df[\"Location\"] == \"Maryland\"]\n",
    "maryland_df"
   ]
  },
  {
   "cell_type": "code",
   "execution_count": null,
   "id": "595694cb",
   "metadata": {},
   "outputs": [],
   "source": [
    "delaware_df = reduced_shopping_trends_df.loc[reduced_shopping_trends_df[\"Location\"] == \"Delaware\"]\n",
    "delaware_df"
   ]
  },
  {
   "cell_type": "code",
   "execution_count": null,
   "id": "98435dd7",
   "metadata": {},
   "outputs": [],
   "source": [
    "vermont_df = reduced_shopping_trends_df.loc[reduced_shopping_trends_df[\"Location\"] == \"Vermont\"]\n",
    "vermont_df"
   ]
  },
  {
   "cell_type": "code",
   "execution_count": null,
   "id": "537f2b56",
   "metadata": {},
   "outputs": [],
   "source": [
    "louisiana_df = reduced_shopping_trends_df.loc[reduced_shopping_trends_df[\"Location\"] == \"Louisiana\"]\n",
    "louisiana_df"
   ]
  },
  {
   "cell_type": "code",
   "execution_count": null,
   "id": "bc1114f0",
   "metadata": {},
   "outputs": [],
   "source": [
    "northdakota_df = reduced_shopping_trends_df.loc[reduced_shopping_trends_df[\"Location\"] == \"North Dakota\"]\n",
    "northdakota_df"
   ]
  },
  {
   "cell_type": "code",
   "execution_count": null,
   "id": "4df55acd",
   "metadata": {},
   "outputs": [],
   "source": [
    "missouri_df = reduced_shopping_trends_df.loc[reduced_shopping_trends_df[\"Location\"] == \"Missouri\"]\n",
    "missouri_df"
   ]
  },
  {
   "cell_type": "code",
   "execution_count": null,
   "id": "ba9f1b1e",
   "metadata": {},
   "outputs": [],
   "source": [
    "wvirginia_df = reduced_shopping_trends_df.loc[reduced_shopping_trends_df[\"Location\"] == \"West Virginia\"]\n",
    "wvirginia_df"
   ]
  },
  {
   "cell_type": "code",
   "execution_count": null,
   "id": "2b9d4d87",
   "metadata": {},
   "outputs": [],
   "source": [
    "newmexico_df = reduced_shopping_trends_df.loc[reduced_shopping_trends_df[\"Location\"] == \"New Mexico\"]\n",
    "newmexico_df"
   ]
  },
  {
   "cell_type": "code",
   "execution_count": null,
   "id": "6e1c83da",
   "metadata": {},
   "outputs": [],
   "source": [
    "mississippi_df = reduced_shopping_trends_df.loc[reduced_shopping_trends_df[\"Location\"] == \"Mississippi\"]\n",
    "mississippi_df"
   ]
  },
  {
   "cell_type": "code",
   "execution_count": null,
   "id": "6bf8a03e",
   "metadata": {},
   "outputs": [],
   "source": [
    "indiana_df = reduced_shopping_trends_df.loc[reduced_shopping_trends_df[\"Location\"] == \"Indiana\"]\n",
    "indiana_df"
   ]
  },
  {
   "cell_type": "code",
   "execution_count": null,
   "id": "8c91606e",
   "metadata": {},
   "outputs": [],
   "source": [
    "georgia_df = reduced_shopping_trends_df.loc[reduced_shopping_trends_df[\"Location\"] == \"Georgia\"]\n",
    "georgia_df"
   ]
  },
  {
   "cell_type": "code",
   "execution_count": null,
   "id": "a775c031",
   "metadata": {},
   "outputs": [],
   "source": [
    "kentucky_df = reduced_shopping_trends_df.loc[reduced_shopping_trends_df[\"Location\"] == \"Kentucky\"]\n",
    "kentucky_df"
   ]
  },
  {
   "cell_type": "code",
   "execution_count": null,
   "id": "51cc0708",
   "metadata": {},
   "outputs": [],
   "source": [
    "arkanasas_df = reduced_shopping_trends_df.loc[reduced_shopping_trends_df[\"Location\"] == \"Arkansas\"]\n",
    "arkanasas_df"
   ]
  },
  {
   "cell_type": "code",
   "execution_count": null,
   "id": "ba7bb7db",
   "metadata": {},
   "outputs": [],
   "source": [
    "montana_df = reduced_shopping_trends_df.loc[reduced_shopping_trends_df[\"Location\"] == \"North Carolina\"]\n",
    "montana_df"
   ]
  },
  {
   "cell_type": "code",
   "execution_count": null,
   "id": "3f271fd7",
   "metadata": {},
   "outputs": [],
   "source": [
    "montana_df = reduced_shopping_trends_df.loc[reduced_shopping_trends_df[\"Location\"] == \"Connecticut\"]\n",
    "montana_df"
   ]
  },
  {
   "cell_type": "code",
   "execution_count": null,
   "id": "8ec58214",
   "metadata": {},
   "outputs": [],
   "source": [
    "montana_df = reduced_shopping_trends_df.loc[reduced_shopping_trends_df[\"Location\"] == \"Virginia\"]\n",
    "montana_df"
   ]
  },
  {
   "cell_type": "code",
   "execution_count": null,
   "id": "0bdd58bc",
   "metadata": {},
   "outputs": [],
   "source": [
    "montana_df = reduced_shopping_trends_df.loc[reduced_shopping_trends_df[\"Location\"] == \"Ohio\"]\n",
    "montana_df"
   ]
  },
  {
   "cell_type": "code",
   "execution_count": null,
   "id": "ebaca54d",
   "metadata": {},
   "outputs": [],
   "source": [
    "montana_df = reduced_shopping_trends_df.loc[reduced_shopping_trends_df[\"Location\"] == \"Tennessee \"]\n",
    "montana_df"
   ]
  },
  {
   "cell_type": "code",
   "execution_count": null,
   "id": "f10ef76e",
   "metadata": {},
   "outputs": [],
   "source": [
    "montana_df = reduced_shopping_trends_df.loc[reduced_shopping_trends_df[\"Location\"] == \"Texas\"]\n",
    "montana_df"
   ]
  },
  {
   "cell_type": "code",
   "execution_count": null,
   "id": "b07fd238",
   "metadata": {},
   "outputs": [],
   "source": [
    "montana_df = reduced_shopping_trends_df.loc[reduced_shopping_trends_df[\"Location\"] == \"Maine\"]\n",
    "montana_df"
   ]
  },
  {
   "cell_type": "code",
   "execution_count": null,
   "id": "842ac954",
   "metadata": {},
   "outputs": [],
   "source": [
    "montana_df = reduced_shopping_trends_df.loc[reduced_shopping_trends_df[\"Location\"] == \"South Carolina\"]\n",
    "montana_df"
   ]
  },
  {
   "cell_type": "code",
   "execution_count": null,
   "id": "eed0a6d2",
   "metadata": {},
   "outputs": [],
   "source": [
    "montana_df = reduced_shopping_trends_df.loc[reduced_shopping_trends_df[\"Location\"] == \"Colorado\"]\n",
    "montana_df"
   ]
  },
  {
   "cell_type": "code",
   "execution_count": null,
   "id": "23b9ee18",
   "metadata": {},
   "outputs": [],
   "source": [
    "montana_df = reduced_shopping_trends_df.loc[reduced_shopping_trends_df[\"Location\"] == \"Oklahoma\"]\n",
    "montana_df"
   ]
  },
  {
   "cell_type": "code",
   "execution_count": null,
   "id": "feca7d4e",
   "metadata": {},
   "outputs": [],
   "source": [
    "montana_df = reduced_shopping_trends_df.loc[reduced_shopping_trends_df[\"Location\"] == \"Wisconsin\"]\n",
    "montana_df"
   ]
  },
  {
   "cell_type": "code",
   "execution_count": null,
   "id": "05b78ac0",
   "metadata": {},
   "outputs": [],
   "source": [
    "montana_df = reduced_shopping_trends_df.loc[reduced_shopping_trends_df[\"Location\"] == \"Oregon\"]\n",
    "montana_df"
   ]
  },
  {
   "cell_type": "code",
   "execution_count": null,
   "id": "25c3a4c1",
   "metadata": {},
   "outputs": [],
   "source": [
    "montana_df = reduced_shopping_trends_df.loc[reduced_shopping_trends_df[\"Location\"] == \"Pennsylvania\"]\n",
    "montana_df"
   ]
  },
  {
   "cell_type": "code",
   "execution_count": null,
   "id": "f36e4430",
   "metadata": {},
   "outputs": [],
   "source": [
    "montana_df = reduced_shopping_trends_df.loc[reduced_shopping_trends_df[\"Location\"] == \"Washington\"]\n",
    "montana_df"
   ]
  },
  {
   "cell_type": "code",
   "execution_count": null,
   "id": "8fff41a6",
   "metadata": {},
   "outputs": [],
   "source": [
    "montana_df = reduced_shopping_trends_df.loc[reduced_shopping_trends_df[\"Location\"] == \"Michigan\"]\n",
    "montana_df"
   ]
  },
  {
   "cell_type": "code",
   "execution_count": null,
   "id": "d3ffa52b",
   "metadata": {},
   "outputs": [],
   "source": [
    "montana_df = reduced_shopping_trends_df.loc[reduced_shopping_trends_df[\"Location\"] == \"Alaska\"]\n",
    "montana_df"
   ]
  },
  {
   "cell_type": "code",
   "execution_count": null,
   "id": "9a043c73",
   "metadata": {},
   "outputs": [],
   "source": [
    "montana_df = reduced_shopping_trends_df.loc[reduced_shopping_trends_df[\"Location\"] == \"Massachusetts\"]\n",
    "montana_df"
   ]
  },
  {
   "cell_type": "code",
   "execution_count": null,
   "id": "b0017fbb",
   "metadata": {},
   "outputs": [],
   "source": [
    "montana_df = reduced_shopping_trends_df.loc[reduced_shopping_trends_df[\"Location\"] == \"Wyoming\"]\n",
    "montana_df"
   ]
  },
  {
   "cell_type": "code",
   "execution_count": null,
   "id": "e6d9ad4d",
   "metadata": {},
   "outputs": [],
   "source": [
    "montana_df = reduced_shopping_trends_df.loc[reduced_shopping_trends_df[\"Location\"] == \"Utah\"]\n",
    "montana_df"
   ]
  },
  {
   "cell_type": "code",
   "execution_count": null,
   "id": "40777149",
   "metadata": {},
   "outputs": [],
   "source": [
    "montana_df = reduced_shopping_trends_df.loc[reduced_shopping_trends_df[\"Location\"] == \"New Hampshire\"]\n",
    "montana_df"
   ]
  },
  {
   "cell_type": "code",
   "execution_count": null,
   "id": "ee63517d",
   "metadata": {},
   "outputs": [],
   "source": [
    "montana_df = reduced_shopping_trends_df.loc[reduced_shopping_trends_df[\"Location\"] == \"South Dakota\"]\n",
    "montana_df"
   ]
  },
  {
   "cell_type": "code",
   "execution_count": null,
   "id": "43590ea7",
   "metadata": {},
   "outputs": [],
   "source": [
    "montana_df = reduced_shopping_trends_df.loc[reduced_shopping_trends_df[\"Location\"] == \"Iowa\"]\n",
    "montana_df"
   ]
  },
  {
   "cell_type": "code",
   "execution_count": null,
   "id": "2fc86613",
   "metadata": {},
   "outputs": [],
   "source": [
    "montana_df = reduced_shopping_trends_df.loc[reduced_shopping_trends_df[\"Location\"] == \"Florida\"]\n",
    "montana_df"
   ]
  },
  {
   "cell_type": "code",
   "execution_count": null,
   "id": "63ea4721",
   "metadata": {},
   "outputs": [],
   "source": [
    "montana_df = reduced_shopping_trends_df.loc[reduced_shopping_trends_df[\"Location\"] == \"New Jersey\"]\n",
    "montana_df"
   ]
  },
  {
   "cell_type": "code",
   "execution_count": null,
   "id": "95181d2e",
   "metadata": {},
   "outputs": [],
   "source": [
    "montana_df = reduced_shopping_trends_df.loc[reduced_shopping_trends_df[\"Location\"] == \"Hawaii\"]\n",
    "montana_df"
   ]
  },
  {
   "cell_type": "code",
   "execution_count": null,
   "id": "0f8e942c",
   "metadata": {},
   "outputs": [],
   "source": [
    "montana_df = reduced_shopping_trends_df.loc[reduced_shopping_trends_df[\"Location\"] == \"Arizona\"]\n",
    "montana_df"
   ]
  },
  {
   "cell_type": "code",
   "execution_count": null,
   "id": "5db77dab",
   "metadata": {},
   "outputs": [],
   "source": [
    "montana_df = reduced_shopping_trends_df.loc[reduced_shopping_trends_df[\"Location\"] == \"Kansas\"]\n",
    "montana_df"
   ]
  },
  {
   "cell_type": "code",
   "execution_count": null,
   "id": "f53f7c89",
   "metadata": {},
   "outputs": [],
   "source": [
    "montana_df = reduced_shopping_trends_df.loc[reduced_shopping_trends_df[\"Location\"] == \"Rhode Island\"]\n",
    "montana_df"
   ]
  },
  {
   "cell_type": "code",
   "execution_count": null,
   "id": "d1d83876",
   "metadata": {},
   "outputs": [],
   "source": []
  },
  {
   "cell_type": "code",
   "execution_count": 26,
   "id": "3fc822ae",
   "metadata": {},
   "outputs": [
    {
     "data": {
      "text/html": [
       "<div>\n",
       "<style scoped>\n",
       "    .dataframe tbody tr th:only-of-type {\n",
       "        vertical-align: middle;\n",
       "    }\n",
       "\n",
       "    .dataframe tbody tr th {\n",
       "        vertical-align: top;\n",
       "    }\n",
       "\n",
       "    .dataframe thead th {\n",
       "        text-align: right;\n",
       "    }\n",
       "</style>\n",
       "<table border=\"1\" class=\"dataframe\">\n",
       "  <thead>\n",
       "    <tr style=\"text-align: right;\">\n",
       "      <th></th>\n",
       "      <th>Customer ID</th>\n",
       "      <th>Location</th>\n",
       "      <th>Discount Applied</th>\n",
       "      <th>Promo Code Used</th>\n",
       "    </tr>\n",
       "  </thead>\n",
       "  <tbody>\n",
       "    <tr>\n",
       "      <th>0</th>\n",
       "      <td>1</td>\n",
       "      <td>Kentucky</td>\n",
       "      <td>Yes</td>\n",
       "      <td>Yes</td>\n",
       "    </tr>\n",
       "    <tr>\n",
       "      <th>1</th>\n",
       "      <td>2</td>\n",
       "      <td>Maine</td>\n",
       "      <td>Yes</td>\n",
       "      <td>Yes</td>\n",
       "    </tr>\n",
       "    <tr>\n",
       "      <th>2</th>\n",
       "      <td>3</td>\n",
       "      <td>Massachusetts</td>\n",
       "      <td>Yes</td>\n",
       "      <td>Yes</td>\n",
       "    </tr>\n",
       "    <tr>\n",
       "      <th>3</th>\n",
       "      <td>4</td>\n",
       "      <td>Rhode Island</td>\n",
       "      <td>Yes</td>\n",
       "      <td>Yes</td>\n",
       "    </tr>\n",
       "    <tr>\n",
       "      <th>4</th>\n",
       "      <td>5</td>\n",
       "      <td>Oregon</td>\n",
       "      <td>Yes</td>\n",
       "      <td>Yes</td>\n",
       "    </tr>\n",
       "    <tr>\n",
       "      <th>...</th>\n",
       "      <td>...</td>\n",
       "      <td>...</td>\n",
       "      <td>...</td>\n",
       "      <td>...</td>\n",
       "    </tr>\n",
       "    <tr>\n",
       "      <th>1672</th>\n",
       "      <td>1673</td>\n",
       "      <td>South Carolina</td>\n",
       "      <td>Yes</td>\n",
       "      <td>Yes</td>\n",
       "    </tr>\n",
       "    <tr>\n",
       "      <th>1673</th>\n",
       "      <td>1674</td>\n",
       "      <td>Hawaii</td>\n",
       "      <td>Yes</td>\n",
       "      <td>Yes</td>\n",
       "    </tr>\n",
       "    <tr>\n",
       "      <th>1674</th>\n",
       "      <td>1675</td>\n",
       "      <td>Alaska</td>\n",
       "      <td>Yes</td>\n",
       "      <td>Yes</td>\n",
       "    </tr>\n",
       "    <tr>\n",
       "      <th>1675</th>\n",
       "      <td>1676</td>\n",
       "      <td>Colorado</td>\n",
       "      <td>Yes</td>\n",
       "      <td>Yes</td>\n",
       "    </tr>\n",
       "    <tr>\n",
       "      <th>1676</th>\n",
       "      <td>1677</td>\n",
       "      <td>West Virginia</td>\n",
       "      <td>Yes</td>\n",
       "      <td>Yes</td>\n",
       "    </tr>\n",
       "  </tbody>\n",
       "</table>\n",
       "<p>1677 rows × 4 columns</p>\n",
       "</div>"
      ],
      "text/plain": [
       "      Customer ID        Location Discount Applied Promo Code Used\n",
       "0               1        Kentucky              Yes             Yes\n",
       "1               2           Maine              Yes             Yes\n",
       "2               3   Massachusetts              Yes             Yes\n",
       "3               4    Rhode Island              Yes             Yes\n",
       "4               5          Oregon              Yes             Yes\n",
       "...           ...             ...              ...             ...\n",
       "1672         1673  South Carolina              Yes             Yes\n",
       "1673         1674          Hawaii              Yes             Yes\n",
       "1674         1675          Alaska              Yes             Yes\n",
       "1675         1676        Colorado              Yes             Yes\n",
       "1676         1677   West Virginia              Yes             Yes\n",
       "\n",
       "[1677 rows x 4 columns]"
      ]
     },
     "execution_count": 26,
     "metadata": {},
     "output_type": "execute_result"
    }
   ],
   "source": [
    "# Select Yes, Select No Discount Applied\n",
    "discountyes_df = reduced_shopping_trends_df.loc[reduced_shopping_trends_df[\"Discount Applied\"] == \"Yes\"]\n",
    "discountyes_df"
   ]
  },
  {
   "cell_type": "code",
   "execution_count": 27,
   "id": "3d06cdff",
   "metadata": {},
   "outputs": [
    {
     "data": {
      "text/html": [
       "<div>\n",
       "<style scoped>\n",
       "    .dataframe tbody tr th:only-of-type {\n",
       "        vertical-align: middle;\n",
       "    }\n",
       "\n",
       "    .dataframe tbody tr th {\n",
       "        vertical-align: top;\n",
       "    }\n",
       "\n",
       "    .dataframe thead th {\n",
       "        text-align: right;\n",
       "    }\n",
       "</style>\n",
       "<table border=\"1\" class=\"dataframe\">\n",
       "  <thead>\n",
       "    <tr style=\"text-align: right;\">\n",
       "      <th></th>\n",
       "      <th>Customer ID</th>\n",
       "      <th>Location</th>\n",
       "      <th>Discount Applied</th>\n",
       "      <th>Promo Code Used</th>\n",
       "    </tr>\n",
       "  </thead>\n",
       "  <tbody>\n",
       "    <tr>\n",
       "      <th>1677</th>\n",
       "      <td>1678</td>\n",
       "      <td>Oregon</td>\n",
       "      <td>No</td>\n",
       "      <td>No</td>\n",
       "    </tr>\n",
       "    <tr>\n",
       "      <th>1678</th>\n",
       "      <td>1679</td>\n",
       "      <td>Ohio</td>\n",
       "      <td>No</td>\n",
       "      <td>No</td>\n",
       "    </tr>\n",
       "    <tr>\n",
       "      <th>1679</th>\n",
       "      <td>1680</td>\n",
       "      <td>Massachusetts</td>\n",
       "      <td>No</td>\n",
       "      <td>No</td>\n",
       "    </tr>\n",
       "    <tr>\n",
       "      <th>1680</th>\n",
       "      <td>1681</td>\n",
       "      <td>Louisiana</td>\n",
       "      <td>No</td>\n",
       "      <td>No</td>\n",
       "    </tr>\n",
       "    <tr>\n",
       "      <th>1681</th>\n",
       "      <td>1682</td>\n",
       "      <td>Virginia</td>\n",
       "      <td>No</td>\n",
       "      <td>No</td>\n",
       "    </tr>\n",
       "    <tr>\n",
       "      <th>...</th>\n",
       "      <td>...</td>\n",
       "      <td>...</td>\n",
       "      <td>...</td>\n",
       "      <td>...</td>\n",
       "    </tr>\n",
       "    <tr>\n",
       "      <th>3895</th>\n",
       "      <td>3896</td>\n",
       "      <td>Virginia</td>\n",
       "      <td>No</td>\n",
       "      <td>No</td>\n",
       "    </tr>\n",
       "    <tr>\n",
       "      <th>3896</th>\n",
       "      <td>3897</td>\n",
       "      <td>Iowa</td>\n",
       "      <td>No</td>\n",
       "      <td>No</td>\n",
       "    </tr>\n",
       "    <tr>\n",
       "      <th>3897</th>\n",
       "      <td>3898</td>\n",
       "      <td>New Jersey</td>\n",
       "      <td>No</td>\n",
       "      <td>No</td>\n",
       "    </tr>\n",
       "    <tr>\n",
       "      <th>3898</th>\n",
       "      <td>3899</td>\n",
       "      <td>Minnesota</td>\n",
       "      <td>No</td>\n",
       "      <td>No</td>\n",
       "    </tr>\n",
       "    <tr>\n",
       "      <th>3899</th>\n",
       "      <td>3900</td>\n",
       "      <td>California</td>\n",
       "      <td>No</td>\n",
       "      <td>No</td>\n",
       "    </tr>\n",
       "  </tbody>\n",
       "</table>\n",
       "<p>2223 rows × 4 columns</p>\n",
       "</div>"
      ],
      "text/plain": [
       "      Customer ID       Location Discount Applied Promo Code Used\n",
       "1677         1678         Oregon               No              No\n",
       "1678         1679           Ohio               No              No\n",
       "1679         1680  Massachusetts               No              No\n",
       "1680         1681      Louisiana               No              No\n",
       "1681         1682       Virginia               No              No\n",
       "...           ...            ...              ...             ...\n",
       "3895         3896       Virginia               No              No\n",
       "3896         3897           Iowa               No              No\n",
       "3897         3898     New Jersey               No              No\n",
       "3898         3899      Minnesota               No              No\n",
       "3899         3900     California               No              No\n",
       "\n",
       "[2223 rows x 4 columns]"
      ]
     },
     "execution_count": 27,
     "metadata": {},
     "output_type": "execute_result"
    }
   ],
   "source": [
    "discountno_df = reduced_shopping_trends_df.loc[reduced_shopping_trends_df[\"Discount Applied\"] == \"No\"]\n",
    "discountno_df"
   ]
  },
  {
   "cell_type": "code",
   "execution_count": 28,
   "id": "087234a3",
   "metadata": {},
   "outputs": [
    {
     "data": {
      "text/html": [
       "<div>\n",
       "<style scoped>\n",
       "    .dataframe tbody tr th:only-of-type {\n",
       "        vertical-align: middle;\n",
       "    }\n",
       "\n",
       "    .dataframe tbody tr th {\n",
       "        vertical-align: top;\n",
       "    }\n",
       "\n",
       "    .dataframe thead th {\n",
       "        text-align: right;\n",
       "    }\n",
       "</style>\n",
       "<table border=\"1\" class=\"dataframe\">\n",
       "  <thead>\n",
       "    <tr style=\"text-align: right;\">\n",
       "      <th></th>\n",
       "      <th>Customer ID</th>\n",
       "      <th>Location</th>\n",
       "      <th>Discount Applied</th>\n",
       "      <th>Promo Code Used</th>\n",
       "    </tr>\n",
       "  </thead>\n",
       "  <tbody>\n",
       "    <tr>\n",
       "      <th>0</th>\n",
       "      <td>1</td>\n",
       "      <td>Kentucky</td>\n",
       "      <td>Yes</td>\n",
       "      <td>Yes</td>\n",
       "    </tr>\n",
       "    <tr>\n",
       "      <th>1</th>\n",
       "      <td>2</td>\n",
       "      <td>Maine</td>\n",
       "      <td>Yes</td>\n",
       "      <td>Yes</td>\n",
       "    </tr>\n",
       "    <tr>\n",
       "      <th>2</th>\n",
       "      <td>3</td>\n",
       "      <td>Massachusetts</td>\n",
       "      <td>Yes</td>\n",
       "      <td>Yes</td>\n",
       "    </tr>\n",
       "    <tr>\n",
       "      <th>3</th>\n",
       "      <td>4</td>\n",
       "      <td>Rhode Island</td>\n",
       "      <td>Yes</td>\n",
       "      <td>Yes</td>\n",
       "    </tr>\n",
       "    <tr>\n",
       "      <th>4</th>\n",
       "      <td>5</td>\n",
       "      <td>Oregon</td>\n",
       "      <td>Yes</td>\n",
       "      <td>Yes</td>\n",
       "    </tr>\n",
       "    <tr>\n",
       "      <th>...</th>\n",
       "      <td>...</td>\n",
       "      <td>...</td>\n",
       "      <td>...</td>\n",
       "      <td>...</td>\n",
       "    </tr>\n",
       "    <tr>\n",
       "      <th>1672</th>\n",
       "      <td>1673</td>\n",
       "      <td>South Carolina</td>\n",
       "      <td>Yes</td>\n",
       "      <td>Yes</td>\n",
       "    </tr>\n",
       "    <tr>\n",
       "      <th>1673</th>\n",
       "      <td>1674</td>\n",
       "      <td>Hawaii</td>\n",
       "      <td>Yes</td>\n",
       "      <td>Yes</td>\n",
       "    </tr>\n",
       "    <tr>\n",
       "      <th>1674</th>\n",
       "      <td>1675</td>\n",
       "      <td>Alaska</td>\n",
       "      <td>Yes</td>\n",
       "      <td>Yes</td>\n",
       "    </tr>\n",
       "    <tr>\n",
       "      <th>1675</th>\n",
       "      <td>1676</td>\n",
       "      <td>Colorado</td>\n",
       "      <td>Yes</td>\n",
       "      <td>Yes</td>\n",
       "    </tr>\n",
       "    <tr>\n",
       "      <th>1676</th>\n",
       "      <td>1677</td>\n",
       "      <td>West Virginia</td>\n",
       "      <td>Yes</td>\n",
       "      <td>Yes</td>\n",
       "    </tr>\n",
       "  </tbody>\n",
       "</table>\n",
       "<p>1677 rows × 4 columns</p>\n",
       "</div>"
      ],
      "text/plain": [
       "      Customer ID        Location Discount Applied Promo Code Used\n",
       "0               1        Kentucky              Yes             Yes\n",
       "1               2           Maine              Yes             Yes\n",
       "2               3   Massachusetts              Yes             Yes\n",
       "3               4    Rhode Island              Yes             Yes\n",
       "4               5          Oregon              Yes             Yes\n",
       "...           ...             ...              ...             ...\n",
       "1672         1673  South Carolina              Yes             Yes\n",
       "1673         1674          Hawaii              Yes             Yes\n",
       "1674         1675          Alaska              Yes             Yes\n",
       "1675         1676        Colorado              Yes             Yes\n",
       "1676         1677   West Virginia              Yes             Yes\n",
       "\n",
       "[1677 rows x 4 columns]"
      ]
     },
     "execution_count": 28,
     "metadata": {},
     "output_type": "execute_result"
    }
   ],
   "source": [
    "# Select Yes, Select No Discount Applied\n",
    "promoyes_df = reduced_shopping_trends_df.loc[reduced_shopping_trends_df[\"Promo Code Used\"] == \"Yes\"]\n",
    "promoyes_df"
   ]
  },
  {
   "cell_type": "code",
   "execution_count": 29,
   "id": "3a800824",
   "metadata": {},
   "outputs": [
    {
     "data": {
      "text/html": [
       "<div>\n",
       "<style scoped>\n",
       "    .dataframe tbody tr th:only-of-type {\n",
       "        vertical-align: middle;\n",
       "    }\n",
       "\n",
       "    .dataframe tbody tr th {\n",
       "        vertical-align: top;\n",
       "    }\n",
       "\n",
       "    .dataframe thead th {\n",
       "        text-align: right;\n",
       "    }\n",
       "</style>\n",
       "<table border=\"1\" class=\"dataframe\">\n",
       "  <thead>\n",
       "    <tr style=\"text-align: right;\">\n",
       "      <th></th>\n",
       "      <th>Customer ID</th>\n",
       "      <th>Location</th>\n",
       "      <th>Discount Applied</th>\n",
       "      <th>Promo Code Used</th>\n",
       "    </tr>\n",
       "  </thead>\n",
       "  <tbody>\n",
       "    <tr>\n",
       "      <th>1677</th>\n",
       "      <td>1678</td>\n",
       "      <td>Oregon</td>\n",
       "      <td>No</td>\n",
       "      <td>No</td>\n",
       "    </tr>\n",
       "    <tr>\n",
       "      <th>1678</th>\n",
       "      <td>1679</td>\n",
       "      <td>Ohio</td>\n",
       "      <td>No</td>\n",
       "      <td>No</td>\n",
       "    </tr>\n",
       "    <tr>\n",
       "      <th>1679</th>\n",
       "      <td>1680</td>\n",
       "      <td>Massachusetts</td>\n",
       "      <td>No</td>\n",
       "      <td>No</td>\n",
       "    </tr>\n",
       "    <tr>\n",
       "      <th>1680</th>\n",
       "      <td>1681</td>\n",
       "      <td>Louisiana</td>\n",
       "      <td>No</td>\n",
       "      <td>No</td>\n",
       "    </tr>\n",
       "    <tr>\n",
       "      <th>1681</th>\n",
       "      <td>1682</td>\n",
       "      <td>Virginia</td>\n",
       "      <td>No</td>\n",
       "      <td>No</td>\n",
       "    </tr>\n",
       "    <tr>\n",
       "      <th>...</th>\n",
       "      <td>...</td>\n",
       "      <td>...</td>\n",
       "      <td>...</td>\n",
       "      <td>...</td>\n",
       "    </tr>\n",
       "    <tr>\n",
       "      <th>3895</th>\n",
       "      <td>3896</td>\n",
       "      <td>Virginia</td>\n",
       "      <td>No</td>\n",
       "      <td>No</td>\n",
       "    </tr>\n",
       "    <tr>\n",
       "      <th>3896</th>\n",
       "      <td>3897</td>\n",
       "      <td>Iowa</td>\n",
       "      <td>No</td>\n",
       "      <td>No</td>\n",
       "    </tr>\n",
       "    <tr>\n",
       "      <th>3897</th>\n",
       "      <td>3898</td>\n",
       "      <td>New Jersey</td>\n",
       "      <td>No</td>\n",
       "      <td>No</td>\n",
       "    </tr>\n",
       "    <tr>\n",
       "      <th>3898</th>\n",
       "      <td>3899</td>\n",
       "      <td>Minnesota</td>\n",
       "      <td>No</td>\n",
       "      <td>No</td>\n",
       "    </tr>\n",
       "    <tr>\n",
       "      <th>3899</th>\n",
       "      <td>3900</td>\n",
       "      <td>California</td>\n",
       "      <td>No</td>\n",
       "      <td>No</td>\n",
       "    </tr>\n",
       "  </tbody>\n",
       "</table>\n",
       "<p>2223 rows × 4 columns</p>\n",
       "</div>"
      ],
      "text/plain": [
       "      Customer ID       Location Discount Applied Promo Code Used\n",
       "1677         1678         Oregon               No              No\n",
       "1678         1679           Ohio               No              No\n",
       "1679         1680  Massachusetts               No              No\n",
       "1680         1681      Louisiana               No              No\n",
       "1681         1682       Virginia               No              No\n",
       "...           ...            ...              ...             ...\n",
       "3895         3896       Virginia               No              No\n",
       "3896         3897           Iowa               No              No\n",
       "3897         3898     New Jersey               No              No\n",
       "3898         3899      Minnesota               No              No\n",
       "3899         3900     California               No              No\n",
       "\n",
       "[2223 rows x 4 columns]"
      ]
     },
     "execution_count": 29,
     "metadata": {},
     "output_type": "execute_result"
    }
   ],
   "source": [
    "promono_df = reduced_shopping_trends_df.loc[reduced_shopping_trends_df[\"Promo Code Used\"] == \"No\"]\n",
    "promono_df"
   ]
  },
  {
   "cell_type": "code",
   "execution_count": null,
   "id": "c9619f6a",
   "metadata": {},
   "outputs": [],
   "source": []
  },
  {
   "cell_type": "code",
   "execution_count": null,
   "id": "8d8aa2f6",
   "metadata": {},
   "outputs": [],
   "source": []
  },
  {
   "cell_type": "code",
   "execution_count": null,
   "id": "aa8642f7",
   "metadata": {},
   "outputs": [],
   "source": []
  },
  {
   "cell_type": "code",
   "execution_count": null,
   "id": "c0ec4885",
   "metadata": {},
   "outputs": [],
   "source": [
    "# Group by the Discount and Promo Code columns (twice), and count\n",
    "#outcome_groups = picked_by_staff_df.groupby(\"Discount Applied\")\n",
    "#outcome_groups[\"Location\"].count()"
   ]
  },
  {
   "cell_type": "code",
   "execution_count": null,
   "id": "25d83238",
   "metadata": {},
   "outputs": [],
   "source": []
  },
  {
   "cell_type": "code",
   "execution_count": null,
   "id": "72762a6f",
   "metadata": {},
   "outputs": [],
   "source": [
    "# shopping_trends_df = pd.merge(shopping_trends_df, average_purchase_amount_by_age, on=\"Age\", how=\"left\", suffixes=('', '_avg'))"
   ]
  },
  {
   "cell_type": "code",
   "execution_count": null,
   "id": "79c9ba1e",
   "metadata": {},
   "outputs": [],
   "source": []
  },
  {
   "cell_type": "code",
   "execution_count": 30,
   "id": "9c3af14a",
   "metadata": {},
   "outputs": [
    {
     "data": {
      "text/plain": [
       "['Montana',\n",
       " 'California',\n",
       " 'Idaho',\n",
       " 'Illinois',\n",
       " 'Alabama',\n",
       " 'Minnesota',\n",
       " 'Nebraska',\n",
       " 'New York',\n",
       " 'Nevada',\n",
       " 'Maryland',\n",
       " 'Delaware',\n",
       " 'Vermont',\n",
       " 'Louisiana',\n",
       " 'North Dakota',\n",
       " 'Missouri',\n",
       " 'West Virginia',\n",
       " 'New Mexico',\n",
       " 'Mississippi',\n",
       " 'Indiana',\n",
       " 'Georgia',\n",
       " 'Kentucky',\n",
       " 'Arkansas',\n",
       " 'North Carolina',\n",
       " 'Connecticut',\n",
       " 'Virginia',\n",
       " 'Ohio',\n",
       " 'Tennessee',\n",
       " 'Texas',\n",
       " 'Maine',\n",
       " 'South Carolina',\n",
       " 'Colorado',\n",
       " 'Oklahoma',\n",
       " 'Wisconsin',\n",
       " 'Oregon',\n",
       " 'Pennsylvania',\n",
       " 'Washington',\n",
       " 'Michigan',\n",
       " 'Alaska',\n",
       " 'Massachusetts',\n",
       " 'Wyoming',\n",
       " 'Utah',\n",
       " 'New Hampshire',\n",
       " 'South Dakota',\n",
       " 'Iowa',\n",
       " 'Florida',\n",
       " 'New Jersey',\n",
       " 'Hawaii',\n",
       " 'Arizona',\n",
       " 'Kansas',\n",
       " 'Rhode Island']"
      ]
     },
     "execution_count": 30,
     "metadata": {},
     "output_type": "execute_result"
    }
   ],
   "source": [
    "# Calculate percent yes/no method\n",
    "#\n",
    "count2_df = count2_df.reset_index()\n",
    "cols_count2_df = count2_df[\"Location\"]\n",
    "cols_count2_df = cols_count2_df.to_list()\n",
    "cols_count2_df"
   ]
  },
  {
   "cell_type": "code",
   "execution_count": null,
   "id": "344893e3",
   "metadata": {},
   "outputs": [],
   "source": []
  },
  {
   "cell_type": "code",
   "execution_count": null,
   "id": "b8d5f43d",
   "metadata": {},
   "outputs": [],
   "source": [
    "# Data\n",
    "groups = cols_count2_df\n",
    "values1 = [location_discount_promo_df[\"Yes\"]]\n",
    "values2 = [location_discount_promo_df[\"No\"]]\n",
    "\n",
    "fig, ax = plt.subplots()\n",
    "\n",
    "# Stacked bar chart\n",
    "ax.bar(groups, values1, label = \"Yes\")\n",
    "ax.bar(groups, values2, bottom = values1, label = \"No\")\n",
    "\n",
    "# Sum of values\n",
    "total_values = np.add(values1, values2)\n",
    "\n",
    "# Total values labels\n",
    "for i, total in enumerate(total_values):\n",
    "  ax.text(i, total + 0.5, round(total),\n",
    "          ha = 'center', weight = 'bold', color = 'black')\n",
    "\n",
    "ax.legend()\n",
    "ax.set_ylabel('Number of answers')\n",
    "\n",
    "plt.show() \n",
    " \n",
    " \n",
    " \n"
   ]
  },
  {
   "cell_type": "code",
   "execution_count": null,
   "id": "4f456e05",
   "metadata": {},
   "outputs": [],
   "source": []
  },
  {
   "cell_type": "code",
   "execution_count": null,
   "id": "215ae130",
   "metadata": {},
   "outputs": [],
   "source": []
  },
  {
   "cell_type": "code",
   "execution_count": null,
   "id": "81f227ea",
   "metadata": {},
   "outputs": [],
   "source": []
  },
  {
   "cell_type": "code",
   "execution_count": null,
   "id": "615e9a45",
   "metadata": {},
   "outputs": [],
   "source": [
    "#df[\"region\"] = df.state.apply(lambda x: states_to_regions[x])"
   ]
  },
  {
   "cell_type": "code",
   "execution_count": null,
   "id": "8f06b00b",
   "metadata": {},
   "outputs": [],
   "source": []
  },
  {
   "cell_type": "code",
   "execution_count": null,
   "id": "71c02f8c",
   "metadata": {},
   "outputs": [],
   "source": [
    "# Count Yes and No for \"Discount Applied\" and \"Promo Code Used\""
   ]
  },
  {
   "cell_type": "code",
   "execution_count": null,
   "id": "38bc1657",
   "metadata": {},
   "outputs": [],
   "source": []
  }
 ],
 "metadata": {
  "kernelspec": {
   "display_name": "Python 3 (ipykernel)",
   "language": "python",
   "name": "python3"
  },
  "language_info": {
   "codemirror_mode": {
    "name": "ipython",
    "version": 3
   },
   "file_extension": ".py",
   "mimetype": "text/x-python",
   "name": "python",
   "nbconvert_exporter": "python",
   "pygments_lexer": "ipython3",
   "version": "3.10.13"
  }
 },
 "nbformat": 4,
 "nbformat_minor": 5
}
